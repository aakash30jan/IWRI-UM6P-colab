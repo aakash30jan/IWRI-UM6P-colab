{
  "cells": [
    {
      "cell_type": "markdown",
      "metadata": {
        "id": "LkW9jAmt_zjB"
      },
      "source": [
        " # Exercise on Enhancing Spatial Data\n",
        " 1. Follow line by line the bellow notebook which starts with an example\n",
        " 2. Your task is to evaluate performance of the model and then answer the questions\n",
        "\n"
      ]
    },
    {
      "cell_type": "code",
      "execution_count": null,
      "metadata": {
        "id": "dremsFdh0ukX"
      },
      "outputs": [],
      "source": [
        "#Preparing Environment\n",
        "\n",
        "!rm original.png test.jpg helpers_ESRGAN.py\n",
        "!wget \"https://gist.githubusercontent.com/aakash30jan/bb17fe23e149e51ffb056193db665154/raw/872d2624e01be48a7ced1e8013b03d50de227ba7/helpers_ESRGAN.py\"\n",
        "!wget https://eoimages.gsfc.nasa.gov/images/imagerecords/92000/92567/moroccodust_viirs_2018214_lrg.jpg -O original.png\n",
        "\n",
        "import os\n",
        "from helpers_ESRGAN import *\n",
        "import time\n",
        "import numpy as np\n",
        "import tensorflow_hub as hub\n",
        "import matplotlib.pyplot as plt\n",
        "from skimage.metrics import structural_similarity as ssim\n",
        "os.environ[\"TFHUB_DOWNLOAD_PROGRESS\"] = \"True\"\n",
        "IMAGE_PATH = \"original.png\"\n",
        "SAVED_MODEL_PATH = \"https://tfhub.dev/captain-pool/esrgan-tf2/1\"\n",
        "model = hub.load(SAVED_MODEL_PATH)\n",
        "%matplotlib inline\n"
      ]
    },
    {
      "cell_type": "markdown",
      "metadata": {
        "id": "ycrCTvmlqBMD"
      },
      "source": [
        "#### Example showing data loading, plotting, and using model for spatial enhancement\n",
        "\n"
      ]
    },
    {
      "cell_type": "code",
      "execution_count": null,
      "metadata": {
        "id": "L7XpMk8Y0uk7"
      },
      "outputs": [],
      "source": [
        "#image loaded from path\n",
        "hr_image = preprocess_image(IMAGE_PATH)[:,::20,::20,:]\n",
        "\n",
        "# Plotting Original Resolution image\n",
        "plot_image(tf.squeeze(hr_image), title=\"Original Image\")\n",
        "save_image(tf.squeeze(hr_image ), filename=\"Original Image\")\n",
        "\n"
      ]
    },
    {
      "cell_type": "code",
      "source": [
        "# perform spatial enhancement with the model\n",
        "start = time.time()\n",
        "hrdl_image = model(hr_image)\n",
        "hrdl_image = tf.squeeze(hrdl_image)\n",
        "print(\"Time Taken: %f\" % (time.time() - start))\n",
        "\n",
        "# Plotting Super Resolution Image\n",
        "plot_image(tf.squeeze(hrdl_image), title=\"Super Resolution\")\n",
        "save_image(tf.squeeze(hrdl_image), filename=\"Super Resolution\")"
      ],
      "metadata": {
        "id": "ZfEe4t9i4gQF"
      },
      "execution_count": null,
      "outputs": []
    },
    {
      "cell_type": "markdown",
      "metadata": {
        "id": "tuKu18UYptkx"
      },
      "source": [
        "### Your task is to evaluate performance of the model by completing the following sections and then provide answers to the questions."
      ]
    },
    {
      "cell_type": "code",
      "execution_count": null,
      "metadata": {
        "id": "r2ANR1XDy77I"
      },
      "outputs": [],
      "source": [
        "#get the test image from https://eoimages.gsfc.nasa.gov/images/imagerecords/3000/3005/morocco.AMO2002330_lrg.jpeg and save it as \"test.jpg\"\n",
        "#??\n",
        "\n",
        "\n",
        "#load the \"test.jpg\" with preprocess_image function similar to previous example\n",
        "#??"
      ]
    },
    {
      "cell_type": "code",
      "execution_count": null,
      "metadata": {
        "id": "r_dautO6qbTV"
      },
      "outputs": [],
      "source": [
        "#from hr_image make downscaled image as lr_image with downscale_image function\n",
        "#??"
      ]
    },
    {
      "cell_type": "code",
      "execution_count": null,
      "metadata": {
        "id": "jRw1x6xY0ulj"
      },
      "outputs": [],
      "source": [
        "#plot Low Resolution lr_image with plot_image function\n",
        "#??"
      ]
    },
    {
      "cell_type": "code",
      "execution_count": null,
      "metadata": {
        "id": "ZX-deZlhqaYz"
      },
      "outputs": [],
      "source": [
        "#use the model to generate hrdl_image from lr_image\n",
        "#??"
      ]
    },
    {
      "cell_type": "code",
      "execution_count": null,
      "metadata": {
        "id": "AmSga6MSq1PB"
      },
      "outputs": [],
      "source": [
        "#plot hrdl_image with plot_image function\n",
        "#??\n"
      ]
    },
    {
      "cell_type": "code",
      "execution_count": null,
      "metadata": {
        "id": "ubdupldDypCy"
      },
      "outputs": [],
      "source": [
        "#Compare by plotting hr_image , lr_image, hrdl_image side-by-side using plt.subplots and label appropriately\n",
        "#??\n"
      ]
    },
    {
      "cell_type": "code",
      "source": [
        "#compare original and predicted image based on compare_images function in helpers_ESRGAN.py\n",
        "#??"
      ],
      "metadata": {
        "id": "JtPtBbP_jjeK"
      },
      "execution_count": null,
      "outputs": []
    },
    {
      "cell_type": "code",
      "source": [],
      "metadata": {
        "id": "EeZqtvBTkLCr"
      },
      "execution_count": null,
      "outputs": []
    }
  ],
  "metadata": {
    "colab": {
      "provenance": [],
      "gpuType": "T4"
    },
    "kernelspec": {
      "display_name": "Python 3",
      "name": "python3"
    },
    "accelerator": "GPU"
  },
  "nbformat": 4,
  "nbformat_minor": 0
}